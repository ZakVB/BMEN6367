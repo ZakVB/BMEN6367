{
  "nbformat": 4,
  "nbformat_minor": 0,
  "metadata": {
    "colab": {
      "provenance": [],
      "authorship_tag": "ABX9TyPXaE/k/sSQy5jwUFMIg2Yr",
      "include_colab_link": true
    },
    "kernelspec": {
      "name": "python3",
      "display_name": "Python 3"
    },
    "language_info": {
      "name": "python"
    }
  },
  "cells": [
    {
      "cell_type": "markdown",
      "metadata": {
        "id": "view-in-github",
        "colab_type": "text"
      },
      "source": [
        "<a href=\"https://colab.research.google.com/github/ZakVB/BMEN6367/blob/main/Homework_4_UpdatedParams.ipynb\" target=\"_parent\"><img src=\"https://colab.research.google.com/assets/colab-badge.svg\" alt=\"Open In Colab\"/></a>"
      ]
    },
    {
      "cell_type": "code",
      "execution_count": 2,
      "metadata": {
        "colab": {
          "base_uri": "https://localhost:8080/"
        },
        "id": "PCa1o8IzFg0M",
        "outputId": "8883955a-ac56-4981-8cb2-a214e52d1290"
      },
      "outputs": [
        {
          "output_type": "stream",
          "name": "stdout",
          "text": [
            "Mounted at /content/drive\n"
          ]
        }
      ],
      "source": [
        "#Connect Google Drive to Colab\n",
        "from google.colab import drive\n",
        "drive.mount('/content/drive')"
      ]
    },
    {
      "cell_type": "code",
      "source": [
        "#Import Libraries\n",
        "import pandas as pd\n",
        "import os\n",
        "from skimage.transform import resize\n",
        "from skimage.io import imread\n",
        "import numpy as np\n",
        "import matplotlib.pyplot as plt\n",
        "from sklearn.svm import SVC\n",
        "from sklearn.decomposition import PCA as RandomizedPCA\n",
        "from sklearn.pipeline import make_pipeline\n",
        "from sklearn.model_selection import GridSearchCV\n",
        "from sklearn.model_selection import train_test_split\n",
        "from sklearn.metrics import accuracy_score\n",
        "from sklearn.metrics import classification_report\n",
        "from sklearn.metrics import confusion_matrix\n",
        "import seaborn as sns; sns.set()"
      ],
      "metadata": {
        "id": "z7_LNajbJO6D"
      },
      "execution_count": 3,
      "outputs": []
    },
    {
      "cell_type": "code",
      "source": [
        "#Label Data\n",
        "Categories=['glioma_tumor','meningioma_tumor', 'no_tumor', 'pituitary_tumor']\n",
        "flat_data_arr=[] #input array\n",
        "target_arr=[] #output array\n",
        "datadir='/content/drive/My Drive/BMEN 6367/BrainMRI/Training'#path which contains all the categories of training images\n",
        "\n",
        "for i in Categories:\n",
        "\tprint(f'Now Loading Category : {i}')\n",
        "\tpath=os.path.join(datadir,i)\n",
        "\tfor img in os.listdir(path):\n",
        "\t\timg_array=imread(os.path.join(path,img))\n",
        "\t\timg_resized=resize(img_array,(150,150,3))\n",
        "\t\tflat_data_arr.append(img_resized.flatten())\n",
        "\t\ttarget_arr.append(Categories.index(i))\n",
        "\tprint(f'Loaded {i} images successfully\\n')\n",
        "\n",
        "flat_data=np.array(flat_data_arr)\n",
        "target=np.array(target_arr)\n"
      ],
      "metadata": {
        "colab": {
          "base_uri": "https://localhost:8080/"
        },
        "id": "lLDXmNE-ef9h",
        "outputId": "bc2ae2ca-8512-4869-8b7d-295660dd1f9c"
      },
      "execution_count": 4,
      "outputs": [
        {
          "output_type": "stream",
          "name": "stdout",
          "text": [
            "Now Loading Category : glioma_tumor\n",
            "Loaded glioma_tumor images successfully\n",
            "\n",
            "Now Loading Category : meningioma_tumor\n",
            "Loaded meningioma_tumor images successfully\n",
            "\n",
            "Now Loading Category : no_tumor\n",
            "Loaded no_tumor images successfully\n",
            "\n",
            "Now Loading Category : pituitary_tumor\n",
            "Loaded pituitary_tumor images successfully\n",
            "\n"
          ]
        }
      ]
    },
    {
      "cell_type": "code",
      "source": [
        "#dataframe\n",
        "df=pd.DataFrame(flat_data)\n",
        "df['Target']=target\n",
        "df.shape"
      ],
      "metadata": {
        "colab": {
          "base_uri": "https://localhost:8080/"
        },
        "id": "LMT07WYag7NZ",
        "outputId": "48cc3727-613f-4014-d82f-1fdddd2250a0"
      },
      "execution_count": 5,
      "outputs": [
        {
          "output_type": "execute_result",
          "data": {
            "text/plain": [
              "(2870, 67501)"
            ]
          },
          "metadata": {},
          "execution_count": 5
        }
      ]
    },
    {
      "cell_type": "code",
      "source": [
        "#input data\n",
        "x=df.iloc[:,:-1]\n",
        "#output data\n",
        "y=df.iloc[:,-1]"
      ],
      "metadata": {
        "id": "myt2L55Hg95Z"
      },
      "execution_count": 6,
      "outputs": []
    },
    {
      "cell_type": "code",
      "source": [
        "# Splitting the data into training and testing sets\n",
        "x_train,x_test,y_train,y_test=train_test_split(x,y,test_size=0.45,random_state=77,stratify=y)"
      ],
      "metadata": {
        "id": "6h1lGsGOhJqi"
      },
      "execution_count": 7,
      "outputs": []
    },
    {
      "cell_type": "code",
      "source": [
        "# Creating a support vector classifier\n",
        "pca = RandomizedPCA(n_components= 150,whiten=True,random_state =42)\n",
        "svc=SVC(class_weight = 'balanced')\n",
        "model = make_pipeline(pca,svc)\n",
        "\n",
        "# Defining the parameters grid for GridSearchCV\n",
        "param_grid={'svc__C':[1,5,10,50,100,500], 'svc__gamma':[0.0001,0.0005,0.001,0.005,0.01,0.05], 'svc__kernel':['rbf']}\n",
        "\n",
        "# Creating a model using GridSearchCV with the parameters grid\n",
        "grid=GridSearchCV(model,param_grid)\n",
        "%time grid.fit(x_train,y_train)\n",
        "print(grid.best_params_)"
      ],
      "metadata": {
        "id": "_wzoaoKwhOKg",
        "colab": {
          "base_uri": "https://localhost:8080/"
        },
        "outputId": "3ace6ac4-f434-4dc5-ba54-765f86113ba4"
      },
      "execution_count": 8,
      "outputs": [
        {
          "output_type": "stream",
          "name": "stdout",
          "text": [
            "CPU times: user 1h 19min 44s, sys: 10min 9s, total: 1h 29min 54s\n",
            "Wall time: 57min 33s\n",
            "{'svc__C': 10, 'svc__gamma': 0.01, 'svc__kernel': 'rbf'}\n"
          ]
        }
      ]
    },
    {
      "cell_type": "code",
      "source": [
        "# Testing the model using the testing data\n",
        "model = grid.best_estimator_\n",
        "y_pred = model.predict(x_test)\n",
        "\n",
        "# Calculating the accuracy of the model\n",
        "accuracy = accuracy_score(y_pred, y_test)\n",
        "\n",
        "# Print the accuracy of the model\n",
        "print(f\"The model is {accuracy*100}% accurate\")"
      ],
      "metadata": {
        "id": "3bFN652Y2LRo",
        "colab": {
          "base_uri": "https://localhost:8080/"
        },
        "outputId": "49d7af25-858e-4cf9-b0c6-fe8977607884"
      },
      "execution_count": 9,
      "outputs": [
        {
          "output_type": "stream",
          "name": "stdout",
          "text": [
            "The model is 85.60371517027863% accurate\n"
          ]
        }
      ]
    },
    {
      "cell_type": "code",
      "source": [
        "#Print Classification Report and Confusion Matrix\n",
        "MRI_classes=['Glioma', 'Meningioma','No Tumor','Pituitary']\n",
        "print(classification_report(y_test, y_pred, target_names=MRI_classes))\n",
        "mat = confusion_matrix(y_test,y_pred)\n",
        "sns.heatmap(mat.T,square = True,annot = True,fmt='d',cbar=False,xticklabels=MRI_classes,yticklabels=MRI_classes)\n",
        "plt.xlabel('Ground Truth')\n",
        "plt.ylabel(\"Prediction\")"
      ],
      "metadata": {
        "id": "Wux7YTvP2QQn",
        "colab": {
          "base_uri": "https://localhost:8080/",
          "height": 666
        },
        "outputId": "56985533-563d-4ce2-a50e-67e29ba19ff6"
      },
      "execution_count": 10,
      "outputs": [
        {
          "output_type": "stream",
          "name": "stdout",
          "text": [
            "              precision    recall  f1-score   support\n",
            "\n",
            "      Glioma       0.81      0.93      0.86       372\n",
            "  Meningioma       0.79      0.77      0.78       370\n",
            "    No Tumor       0.87      0.62      0.72       178\n",
            "   Pituitary       0.97      0.98      0.97       372\n",
            "\n",
            "    accuracy                           0.86      1292\n",
            "   macro avg       0.86      0.82      0.84      1292\n",
            "weighted avg       0.86      0.86      0.85      1292\n",
            "\n"
          ]
        },
        {
          "output_type": "execute_result",
          "data": {
            "text/plain": [
              "Text(109.44999999999997, 0.5, 'Prediction')"
            ]
          },
          "metadata": {},
          "execution_count": 10
        },
        {
          "output_type": "display_data",
          "data": {
            "text/plain": [
              "<Figure size 640x480 with 1 Axes>"
            ],
            "image/png": "[encoded data removed]"
          },
          "metadata": {}
        }
      ]
    },
    {
      "cell_type": "code",
      "source": [
        "#Testing the Data with the data in the Test Folder\n",
        "#Label Data\n",
        "Categories=['glioma_tumor','meningioma_tumor', 'no_tumor', 'pituitary_tumor']\n",
        "flat_data_arr=[] #input array\n",
        "target_arr=[] #output array\n",
        "datadir='/content/drive/My Drive/BMEN 6367/BrainMRI/Testing'#path which contains all the categories of training images\n",
        "\n",
        "for i in Categories:\n",
        "\tprint(f'Now Loading Category : {i}')\n",
        "\tpath=os.path.join(datadir,i)\n",
        "\tfor img in os.listdir(path):\n",
        "\t\timg_array=imread(os.path.join(path,img))\n",
        "\t\timg_resized=resize(img_array,(150,150,3))\n",
        "\t\tflat_data_arr.append(img_resized.flatten())\n",
        "\t\ttarget_arr.append(Categories.index(i))\n",
        "\tprint(f'Loaded {i} images successfully\\n')\n",
        "\n",
        "flat_data=np.array(flat_data_arr)\n",
        "target=np.array(target_arr)\n",
        "\n",
        "#dataframe\n",
        "df=pd.DataFrame(flat_data)\n",
        "df['Target']=target\n",
        "df.shape\n",
        "\n",
        "#input data\n",
        "x=df.iloc[:,:-1]\n",
        "y_test = df.iloc[:,-1]\n",
        "#output data\n",
        "y_pred = model.predict(x)\n",
        "\n",
        "# Calculating the accuracy of the model\n",
        "accuracy = accuracy_score(y_pred, y_test)\n",
        "\n",
        "# Print the accuracy of the model\n",
        "print(f\"The model is {accuracy*100}% accurate\")\n",
        "\n",
        "#Print Classification Report and Confusion Matrix\n",
        "MRI_classes=['Glioma', 'Meningioma','No Tumor','Pituitary']\n",
        "print(classification_report(y_test, y_pred, target_names=MRI_classes))\n",
        "mat = confusion_matrix(y_test,y_pred)\n",
        "sns.heatmap(mat.T,square = True,annot = True,fmt='d',cbar=False,xticklabels=MRI_classes,yticklabels=MRI_classes)\n",
        "plt.xlabel('Ground Truth')\n",
        "plt.ylabel(\"Prediction\")"
      ],
      "metadata": {
        "colab": {
          "base_uri": "https://localhost:8080/",
          "height": 892
        },
        "id": "rc3f7CRwKdJU",
        "outputId": "ae99ef8e-dabb-4f90-ba85-2ee221234c8c"
      },
      "execution_count": 11,
      "outputs": [
        {
          "output_type": "stream",
          "name": "stdout",
          "text": [
            "Now Loading Category : glioma_tumor\n",
            "Loaded glioma_tumor images successfully\n",
            "\n",
            "Now Loading Category : meningioma_tumor\n",
            "Loaded meningioma_tumor images successfully\n",
            "\n",
            "Now Loading Category : no_tumor\n",
            "Loaded no_tumor images successfully\n",
            "\n",
            "Now Loading Category : pituitary_tumor\n",
            "Loaded pituitary_tumor images successfully\n",
            "\n",
            "The model is 66.24365482233503% accurate\n",
            "              precision    recall  f1-score   support\n",
            "\n",
            "      Glioma       0.76      0.22      0.34       100\n",
            "  Meningioma       0.59      0.88      0.70       115\n",
            "    No Tumor       0.66      0.89      0.76       105\n",
            "   Pituitary       0.85      0.61      0.71        74\n",
            "\n",
            "    accuracy                           0.66       394\n",
            "   macro avg       0.71      0.65      0.63       394\n",
            "weighted avg       0.70      0.66      0.63       394\n",
            "\n"
          ]
        },
        {
          "output_type": "execute_result",
          "data": {
            "text/plain": [
              "Text(109.44999999999997, 0.5, 'Prediction')"
            ]
          },
          "metadata": {},
          "execution_count": 11
        },
        {
          "output_type": "display_data",
          "data": {
            "text/plain": [
              "<Figure size 640x480 with 1 Axes>"
            ],
            "image/png": "[encoded data removed]"
          },
          "metadata": {}
        }
      ]
    }
  ]
}