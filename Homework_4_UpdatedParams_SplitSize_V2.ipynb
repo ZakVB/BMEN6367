{
  "nbformat": 4,
  "nbformat_minor": 0,
  "metadata": {
    "colab": {
      "provenance": [],
      "authorship_tag": "ABX9TyMnWJ7xyDfCUSldRQWasu03",
      "include_colab_link": true
    },
    "kernelspec": {
      "name": "python3",
      "display_name": "Python 3"
    },
    "language_info": {
      "name": "python"
    }
  },
  "cells": [
    {
      "cell_type": "markdown",
      "metadata": {
        "id": "view-in-github",
        "colab_type": "text"
      },
      "source": [
        "<a href=\"https://colab.research.google.com/github/ZakVB/BMEN6367/blob/main/Homework_4_UpdatedParams_SplitSize_V2.ipynb\" target=\"_parent\"><img src=\"https://colab.research.google.com/assets/colab-badge.svg\" alt=\"Open In Colab\"/></a>"
      ]
    },
    {
      "cell_type": "code",
      "execution_count": 1,
      "metadata": {
        "colab": {
          "base_uri": "https://localhost:8080/"
        },
        "id": "PCa1o8IzFg0M",
        "outputId": "7323e6aa-46e5-4fa2-da81-346307f84083"
      },
      "outputs": [
        {
          "output_type": "stream",
          "name": "stdout",
          "text": [
            "Mounted at /content/drive\n"
          ]
        }
      ],
      "source": [
        "#Connect Google Drive to Colab\n",
        "from google.colab import drive\n",
        "drive.mount('/content/drive')"
      ]
    },
    {
      "cell_type": "code",
      "source": [
        "#Import Libraries\n",
        "import pandas as pd\n",
        "import os\n",
        "from skimage.transform import resize\n",
        "from skimage.io import imread\n",
        "import numpy as np\n",
        "import matplotlib.pyplot as plt\n",
        "from sklearn.svm import SVC\n",
        "from sklearn.decomposition import PCA as RandomizedPCA\n",
        "from sklearn.pipeline import make_pipeline\n",
        "from sklearn.model_selection import GridSearchCV\n",
        "from sklearn.model_selection import train_test_split\n",
        "from sklearn.metrics import accuracy_score\n",
        "from sklearn.metrics import classification_report\n",
        "from sklearn.metrics import confusion_matrix\n",
        "import seaborn as sns; sns.set()"
      ],
      "metadata": {
        "id": "z7_LNajbJO6D"
      },
      "execution_count": 11,
      "outputs": []
    },
    {
      "cell_type": "code",
      "source": [
        "#Label Data\n",
        "Categories=['glioma_tumor','meningioma_tumor', 'no_tumor', 'pituitary_tumor']\n",
        "flat_data_arr=[] #input array\n",
        "target_arr=[] #output array\n",
        "datadir='/content/drive/My Drive/BMEN 6367/BrainMRI/Training'#path which contains all the categories of training images\n",
        "\n",
        "for i in Categories:\n",
        "\tprint(f'Now Loading Category : {i}')\n",
        "\tpath=os.path.join(datadir,i)\n",
        "\tfor img in os.listdir(path):\n",
        "\t\timg_array=imread(os.path.join(path,img))\n",
        "\t\timg_resized=resize(img_array,(150,150,3))\n",
        "\t\tflat_data_arr.append(img_resized.flatten())\n",
        "\t\ttarget_arr.append(Categories.index(i))\n",
        "\tprint(f'Loaded {i} images successfully\\n')\n",
        "\n",
        "flat_data=np.array(flat_data_arr)\n",
        "target=np.array(target_arr)\n"
      ],
      "metadata": {
        "colab": {
          "base_uri": "https://localhost:8080/"
        },
        "id": "lLDXmNE-ef9h",
        "outputId": "79be347f-31c5-4d9c-fcdc-2b59c2194224"
      },
      "execution_count": 12,
      "outputs": [
        {
          "output_type": "stream",
          "name": "stdout",
          "text": [
            "Now Loading Category : glioma_tumor\n",
            "Loaded glioma_tumor images successfully\n",
            "\n",
            "Now Loading Category : meningioma_tumor\n",
            "Loaded meningioma_tumor images successfully\n",
            "\n",
            "Now Loading Category : no_tumor\n",
            "Loaded no_tumor images successfully\n",
            "\n",
            "Now Loading Category : pituitary_tumor\n",
            "Loaded pituitary_tumor images successfully\n",
            "\n"
          ]
        }
      ]
    },
    {
      "cell_type": "code",
      "source": [
        "#dataframe\n",
        "df=pd.DataFrame(flat_data)\n",
        "df['Target']=target\n",
        "df.shape"
      ],
      "metadata": {
        "colab": {
          "base_uri": "https://localhost:8080/"
        },
        "id": "LMT07WYag7NZ",
        "outputId": "29d65de7-6c2d-46ee-d8d0-3c91f6926abb"
      },
      "execution_count": 13,
      "outputs": [
        {
          "output_type": "execute_result",
          "data": {
            "text/plain": [
              "(2870, 67501)"
            ]
          },
          "metadata": {},
          "execution_count": 13
        }
      ]
    },
    {
      "cell_type": "code",
      "source": [
        "#input data\n",
        "x=df.iloc[:,:-1]\n",
        "#output data\n",
        "y=df.iloc[:,-1]"
      ],
      "metadata": {
        "id": "myt2L55Hg95Z"
      },
      "execution_count": 14,
      "outputs": []
    },
    {
      "cell_type": "code",
      "source": [
        "# Splitting the data into training and testing sets\n",
        "x_train,x_test,y_train,y_test=train_test_split(x,y,test_size=0.20,random_state=77,stratify=y)"
      ],
      "metadata": {
        "id": "6h1lGsGOhJqi"
      },
      "execution_count": 15,
      "outputs": []
    },
    {
      "cell_type": "code",
      "source": [
        "# Creating a support vector classifier\n",
        "pca = RandomizedPCA(n_components= 150,whiten=True,random_state =42)\n",
        "svc=SVC(class_weight = 'balanced')\n",
        "model = make_pipeline(pca,svc)\n",
        "\n",
        "# Defining the parameters grid for GridSearchCV\n",
        "param_grid={'svc__C':[1,5,10,50,100,500], 'svc__gamma':[0.0001,0.0005,0.001,0.005,0.01,0.05], 'svc__kernel':['rbf']}\n",
        "\n",
        "# Creating a model using GridSearchCV with the parameters grid\n",
        "grid=GridSearchCV(model,param_grid)\n",
        "%time grid.fit(x_train,y_train)\n",
        "print(grid.best_params_)"
      ],
      "metadata": {
        "id": "_wzoaoKwhOKg",
        "colab": {
          "base_uri": "https://localhost:8080/"
        },
        "outputId": "93890061-021f-44a8-ad21-e26a9537cfa7"
      },
      "execution_count": 16,
      "outputs": [
        {
          "output_type": "stream",
          "name": "stdout",
          "text": [
            "CPU times: user 2h 42min 58s, sys: 14min 37s, total: 2h 57min 35s\n",
            "Wall time: 1h 53min 51s\n",
            "{'svc__C': 10, 'svc__gamma': 0.01, 'svc__kernel': 'rbf'}\n"
          ]
        }
      ]
    },
    {
      "cell_type": "code",
      "source": [
        "# Testing the model using the testing data\n",
        "model = grid.best_estimator_\n",
        "y_pred = model.predict(x_test)\n",
        "\n",
        "# Calculating the accuracy of the model\n",
        "accuracy = accuracy_score(y_pred, y_test)\n",
        "\n",
        "# Print the accuracy of the model\n",
        "print(f\"The model is {accuracy*100}% accurate\")"
      ],
      "metadata": {
        "id": "3bFN652Y2LRo",
        "colab": {
          "base_uri": "https://localhost:8080/"
        },
        "outputId": "48424df2-ae5c-46f9-ffc8-09931ebdca7e"
      },
      "execution_count": 17,
      "outputs": [
        {
          "output_type": "stream",
          "name": "stdout",
          "text": [
            "The model is 90.41811846689896% accurate\n"
          ]
        }
      ]
    },
    {
      "cell_type": "code",
      "source": [
        "#Print Classification Report and Confusion Matrix\n",
        "MRI_classes=['Glioma', 'Meningioma','No Tumor','Pituitary']\n",
        "print(classification_report(y_test, y_pred, target_names=MRI_classes))\n",
        "mat = confusion_matrix(y_test,y_pred)\n",
        "sns.heatmap(mat.T,square = True,annot = True,fmt='d',cbar=False,xticklabels=MRI_classes,yticklabels=MRI_classes)\n",
        "plt.xlabel('Ground Truth')\n",
        "plt.ylabel(\"Prediction\")"
      ],
      "metadata": {
        "id": "Wux7YTvP2QQn",
        "colab": {
          "base_uri": "https://localhost:8080/",
          "height": 666
        },
        "outputId": "eaf07723-f167-47dc-827f-58096e9df1c6"
      },
      "execution_count": 18,
      "outputs": [
        {
          "output_type": "stream",
          "name": "stdout",
          "text": [
            "              precision    recall  f1-score   support\n",
            "\n",
            "      Glioma       0.90      0.92      0.91       165\n",
            "  Meningioma       0.82      0.90      0.86       164\n",
            "    No Tumor       0.94      0.75      0.83        79\n",
            "   Pituitary       0.98      0.98      0.98       166\n",
            "\n",
            "    accuracy                           0.90       574\n",
            "   macro avg       0.91      0.88      0.89       574\n",
            "weighted avg       0.91      0.90      0.90       574\n",
            "\n"
          ]
        },
        {
          "output_type": "execute_result",
          "data": {
            "text/plain": [
              "Text(109.44999999999997, 0.5, 'Prediction')"
            ]
          },
          "metadata": {},
          "execution_count": 18
        },
        {
          "output_type": "display_data",
          "data": {
            "text/plain": [
              "<Figure size 640x480 with 1 Axes>"
            ],
            "image/png": "[encoded data removed]"
          },
          "metadata": {}
        }
      ]
    },
    {
      "cell_type": "code",
      "source": [
        "#Testing the Data with the data in the Test Folder\n",
        "#Label Data\n",
        "Categories=['glioma_tumor','meningioma_tumor', 'no_tumor', 'pituitary_tumor']\n",
        "flat_data_arr=[] #input array\n",
        "target_arr=[] #output array\n",
        "datadir='/content/drive/My Drive/BMEN 6367/BrainMRI/Testing'#path which contains all the categories of training images\n",
        "\n",
        "for i in Categories:\n",
        "\tprint(f'Now Loading Category : {i}')\n",
        "\tpath=os.path.join(datadir,i)\n",
        "\tfor img in os.listdir(path):\n",
        "\t\timg_array=imread(os.path.join(path,img))\n",
        "\t\timg_resized=resize(img_array,(150,150,3))\n",
        "\t\tflat_data_arr.append(img_resized.flatten())\n",
        "\t\ttarget_arr.append(Categories.index(i))\n",
        "\tprint(f'Loaded {i} images successfully\\n')\n",
        "\n",
        "flat_data=np.array(flat_data_arr)\n",
        "target=np.array(target_arr)\n",
        "\n",
        "#dataframe\n",
        "df=pd.DataFrame(flat_data)\n",
        "df['Target']=target\n",
        "df.shape\n",
        "\n",
        "#input data\n",
        "x=df.iloc[:,:-1]\n",
        "y_test = df.iloc[:,-1]\n",
        "#output data\n",
        "y_pred = model.predict(x)\n",
        "\n",
        "# Calculating the accuracy of the model\n",
        "accuracy = accuracy_score(y_pred, y_test)\n",
        "\n",
        "# Print the accuracy of the model\n",
        "print(f\"The model is {accuracy*100}% accurate\")\n",
        "\n",
        "#Print Classification Report and Confusion Matrix\n",
        "MRI_classes=['Glioma', 'Meningioma','No Tumor','Pituitary']\n",
        "print(classification_report(y_test, y_pred, target_names=MRI_classes))\n",
        "mat = confusion_matrix(y_test,y_pred)\n",
        "sns.heatmap(mat.T,square = True,annot = True,fmt='d',cbar=False,xticklabels=MRI_classes,yticklabels=MRI_classes)\n",
        "plt.xlabel('Ground Truth')\n",
        "plt.ylabel(\"Prediction\")"
      ],
      "metadata": {
        "colab": {
          "base_uri": "https://localhost:8080/",
          "height": 892
        },
        "id": "rc3f7CRwKdJU",
        "outputId": "320feeaf-2229-448f-d908-e18a74eb370c"
      },
      "execution_count": 19,
      "outputs": [
        {
          "output_type": "stream",
          "name": "stdout",
          "text": [
            "Now Loading Category : glioma_tumor\n",
            "Loaded glioma_tumor images successfully\n",
            "\n",
            "Now Loading Category : meningioma_tumor\n",
            "Loaded meningioma_tumor images successfully\n",
            "\n",
            "Now Loading Category : no_tumor\n",
            "Loaded no_tumor images successfully\n",
            "\n",
            "Now Loading Category : pituitary_tumor\n",
            "Loaded pituitary_tumor images successfully\n",
            "\n",
            "The model is 71.57360406091371% accurate\n",
            "              precision    recall  f1-score   support\n",
            "\n",
            "      Glioma       0.92      0.22      0.35       100\n",
            "  Meningioma       0.65      0.95      0.77       115\n",
            "    No Tumor       0.68      0.96      0.80       105\n",
            "   Pituitary       0.93      0.68      0.78        74\n",
            "\n",
            "    accuracy                           0.72       394\n",
            "   macro avg       0.79      0.70      0.68       394\n",
            "weighted avg       0.78      0.72      0.67       394\n",
            "\n"
          ]
        },
        {
          "output_type": "execute_result",
          "data": {
            "text/plain": [
              "Text(109.44999999999997, 0.5, 'Prediction')"
            ]
          },
          "metadata": {},
          "execution_count": 19
        },
        {
          "output_type": "display_data",
          "data": {
            "text/plain": [
              "<Figure size 640x480 with 1 Axes>"
            ],
            "image/png": "[encoded data removed]"
          },
          "metadata": {}
        }
      ]
    }
  ]
}